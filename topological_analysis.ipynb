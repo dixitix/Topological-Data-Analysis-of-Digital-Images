{
  "cells": [
    {
      "cell_type": "markdown",
      "metadata": {
        "id": "zLOvE88Fmn9i"
      },
      "source": [
        "# Топологический анализ изображений"
      ]
    },
    {
      "cell_type": "code",
      "execution_count": 1,
      "metadata": {
        "colab": {
          "base_uri": "https://localhost:8080/"
        },
        "id": "yoZUnJMMNGYu",
        "outputId": "4e9b23bf-cf99-416c-fe11-043cfff2a057"
      },
      "outputs": [
        {
          "output_type": "stream",
          "name": "stdout",
          "text": [
            "Looking in indexes: https://pypi.org/simple, https://us-python.pkg.dev/colab-wheels/public/simple/\n",
            "Collecting gudhi\n",
            "  Downloading gudhi-3.8.0-cp310-cp310-manylinux_2_17_x86_64.manylinux2014_x86_64.whl (3.0 MB)\n",
            "\u001b[2K     \u001b[90m━━━━━━━━━━━━━━━━━━━━━━━━━━━━━━━━━━━━━━━━\u001b[0m \u001b[32m3.0/3.0 MB\u001b[0m \u001b[31m27.6 MB/s\u001b[0m eta \u001b[36m0:00:00\u001b[0m\n",
            "\u001b[?25hRequirement already satisfied: numpy>=1.15.0 in /usr/local/lib/python3.10/dist-packages (from gudhi) (1.22.4)\n",
            "Installing collected packages: gudhi\n",
            "Successfully installed gudhi-3.8.0\n"
          ]
        }
      ],
      "source": [
        "!pip install gudhi"
      ]
    },
    {
      "cell_type": "code",
      "execution_count": 3,
      "metadata": {
        "id": "FrMQf8c2fY7v"
      },
      "outputs": [],
      "source": [
        "import torch\n",
        "import torch.nn as nn\n",
        "from torch.nn.functional import relu, softmax\n",
        "from torch.utils.data import Dataset, DataLoader, random_split\n",
        "\n",
        "from torchvision import transforms\n",
        "from torchvision.datasets import MNIST\n",
        "\n",
        "from torch.optim import Adam\n",
        "from sklearn.datasets import fetch_openml\n",
        "from sklearn.model_selection import train_test_split\n",
        "\n",
        "import numpy as np\n",
        "\n",
        "from gudhi.sklearn.cubical_persistence import CubicalPersistence\n",
        "\n",
        "import matplotlib.pyplot as plt\n",
        "from PIL import Image"
      ]
    },
    {
      "cell_type": "code",
      "execution_count": 4,
      "metadata": {
        "id": "Od5zORT9jNcd"
      },
      "outputs": [],
      "source": [
        "transform = transforms.Compose([\n",
        "    transforms.ToTensor()\n",
        "])"
      ]
    },
    {
      "cell_type": "code",
      "execution_count": 5,
      "metadata": {
        "id": "f8bB9ba_asas"
      },
      "outputs": [],
      "source": [
        "class Orbit2kDataset(Dataset):\n",
        "    def __init__(self, X, y, transform=transform):\n",
        "        self.X = X\n",
        "        self.y = y\n",
        "    \n",
        "    def __len__(self):\n",
        "        return len(self.y)\n",
        "    \n",
        "    def __getitem__(self, idx):\n",
        "        return self.X[idx], self.y[idx]"
      ]
    },
    {
      "cell_type": "code",
      "execution_count": 6,
      "metadata": {
        "id": "0VN6Yl9gK5ya"
      },
      "outputs": [],
      "source": [
        "class MLP(nn.Module):\n",
        "    def __init__(self, d_in, d_hidden, d_out):\n",
        "        super().__init__()\n",
        "        self.linear1 = nn.Linear(d_in, d_hidden)\n",
        "        self.linear2 = nn.Linear(d_hidden, d_out)\n",
        "\n",
        "    def forward(self, x):\n",
        "        x = relu(self.linear1(x))\n",
        "        x = self.linear2(x)\n",
        "        return x"
      ]
    },
    {
      "cell_type": "markdown",
      "metadata": {
        "id": "wTsN-iFuwlsl"
      },
      "source": [
        "## MLP на сверточных фильтрах"
      ]
    },
    {
      "cell_type": "markdown",
      "metadata": {
        "id": "o2xObdbjqE8s"
      },
      "source": [
        "#### Model"
      ]
    },
    {
      "cell_type": "code",
      "execution_count": null,
      "metadata": {
        "id": "BMX4VyKqiBvv"
      },
      "outputs": [],
      "source": [
        "torch.manual_seed(0)"
      ]
    },
    {
      "cell_type": "code",
      "execution_count": 33,
      "metadata": {
        "id": "iPSARJFgfiJI"
      },
      "outputs": [],
      "source": [
        "class FeatureExtractor(nn.Module):\n",
        "    def __init__(self, n_channels):\n",
        "        super().__init__()\n",
        "        self.conv1 = nn.Conv2d(in_channels=1, out_channels=n_channels, kernel_size=(3,3))  \n",
        "        self.conv2 = nn.Conv2d(in_channels=n_channels, out_channels=n_channels, groups=4, kernel_size=(3,3))  \n",
        "        self.conv3 = nn.Conv2d(in_channels=n_channels, out_channels=n_channels, groups=2, kernel_size=(3,3))  \n",
        "        self.bn3 = nn.BatchNorm2d(num_features=n_channels)\n",
        "\n",
        "    def forward(self, X):\n",
        "        X = relu(self.conv1(X))\n",
        "        X = self.conv2(X)\n",
        "        X = self.bn3(self.conv3(X))\n",
        "        return X"
      ]
    },
    {
      "cell_type": "markdown",
      "metadata": {
        "id": "muqpxhHOpx6d"
      },
      "source": [
        "#### Dataset"
      ]
    },
    {
      "cell_type": "code",
      "execution_count": null,
      "metadata": {
        "id": "6En9ZK0vuUUk"
      },
      "outputs": [],
      "source": [
        "X_mnist, y_mnist = fetch_openml(\"mnist_784\", return_X_y=True, as_frame=False)"
      ]
    },
    {
      "cell_type": "code",
      "execution_count": 9,
      "metadata": {
        "id": "TtwqO2dS7-cV"
      },
      "outputs": [],
      "source": [
        "# получаем свертки\n",
        "start = 0\n",
        "take_n = 70000\n",
        "n_channels = 8\n",
        "\n",
        "X = torch.tensor(X_mnist[start:start+take_n].reshape((take_n, 1, 28, 28)), dtype=torch.float)\n",
        "feature_extractor = FeatureExtractor(n_channels)\n",
        "Y = feature_extractor(X).detach().numpy()"
      ]
    },
    {
      "cell_type": "code",
      "execution_count": 10,
      "metadata": {
        "id": "AKwvgU0o8_Jl"
      },
      "outputs": [],
      "source": [
        "# создаем датасет\n",
        "X_mnist_features = Y.reshape(Y.shape[0], -1)\n",
        "y_mnist = y_mnist.astype(np.int64)\n",
        "\n",
        "n_train, n_test = 60000, 10000\n",
        "\n",
        "dataset_mlp = Orbit2kDataset(X_mnist_features, y_mnist)\n",
        "dataset_train_mlp, dataset_test_mlp = train_test_split(dataset_mlp, train_size=n_train, test_size=n_test, shuffle=False)"
      ]
    },
    {
      "cell_type": "markdown",
      "metadata": {
        "id": "x4VYYagmqNVK"
      },
      "source": [
        "#### Train"
      ]
    },
    {
      "cell_type": "code",
      "execution_count": null,
      "metadata": {
        "id": "brZklLER5t9M"
      },
      "outputs": [],
      "source": [
        "%%time\n",
        "n_repeats = 1\n",
        "n_epochs = 100\n",
        "\n",
        "history_mlp = np.zeros((n_repeats, n_epochs, 3))\n",
        "criterion = nn.CrossEntropyLoss()\n",
        "\n",
        "for repeat_idx in range(n_repeats):\n",
        "    lr = 0.001\n",
        "    mlp = MLP(8 * 22 * 22, 256, 10)\n",
        "    optimizer = torch.optim.SGD(mlp.parameters(), lr=lr)\n",
        "\n",
        "    print(\"{:3} {:6} {:6} {:6}\".format(repeat_idx, \"Loss\", \"Train\", \"Test\"))\n",
        "\n",
        "    dataloader_train_mlp = DataLoader(dataset_train_mlp, batch_size=64, shuffle=True)\n",
        "    dataloader_test_mlp = DataLoader(dataset_test_mlp, batch_size=64, shuffle=True)\n",
        "\n",
        "    for epoch_idx in range(n_epochs):\n",
        "        # train\n",
        "        mlp.train()\n",
        "\n",
        "        loss_epoch = []\n",
        "        for i, data in enumerate(dataloader_train_mlp, 0):\n",
        "            x, y = data\n",
        "            optimizer.zero_grad()\n",
        "            y_pred = mlp(x.reshape(x.shape[0], -1))\n",
        "            loss = criterion(y_pred, y)\n",
        "            loss.backward()\n",
        "            optimizer.step()\n",
        "            loss_epoch.append(loss.detach())\n",
        "\n",
        "        loss_epoch_mean = np.array(loss_epoch).mean()\n",
        "        history_mlp[repeat_idx,epoch_idx,0] = loss_epoch_mean\n",
        "\n",
        "        # test\n",
        "        mlp.eval()\n",
        "\n",
        "        correct = 0\n",
        "        total = 0\n",
        "\n",
        "        with torch.no_grad():\n",
        "            for data in dataloader_train_mlp:\n",
        "                x, y = data\n",
        "                y_pred = mlp(x)\n",
        "                predicted = torch.argmax(y_pred, dim=1)\n",
        "                total += y.size(0)\n",
        "                correct += (predicted == y).sum().item()\n",
        "\n",
        "        accuracy_train = 100 * correct / total\n",
        "        history_mlp[repeat_idx,epoch_idx,1] = accuracy_train\n",
        "\n",
        "        correct = 0\n",
        "        total = 0\n",
        "\n",
        "        with torch.no_grad():\n",
        "            for data in dataloader_test_mlp:\n",
        "                x, y = data\n",
        "                y_pred = mlp(x)\n",
        "                predicted = torch.argmax(y_pred, dim=1)\n",
        "                total += y.size(0)\n",
        "                correct += (predicted == y).sum().item()\n",
        "\n",
        "        accuracy_test = 100 * correct / total\n",
        "        history_mlp[repeat_idx,epoch_idx,2] = accuracy_test\n",
        "\n",
        "        print(\"{:3} {:.4f} {:.4f} {:.4f}\".format(epoch_idx, loss_epoch_mean, accuracy_train, accuracy_test))\n",
        "    print(\"\\r\")"
      ]
    },
    {
      "cell_type": "markdown",
      "metadata": {
        "id": "qmTQz1uYEre5"
      },
      "source": [
        "## Топологические признаки"
      ]
    },
    {
      "cell_type": "code",
      "execution_count": 14,
      "metadata": {
        "id": "fdzm8iLbA-Lw"
      },
      "outputs": [],
      "source": [
        "def conv_pd(diagrams):\n",
        "    pd = np.zeros((0, 3))\n",
        "\n",
        "    for k, diagram_k in enumerate(diagrams):\n",
        "        diagram_k = np.concatenate((diagram_k, k * np.ones((diagram_k.shape[0], 1))), axis=1)\n",
        "        pd = np.concatenate((pd, diagram_k))\n",
        "\n",
        "    return pd"
      ]
    },
    {
      "cell_type": "code",
      "execution_count": 16,
      "metadata": {
        "id": "sZ8B-aky9XC_"
      },
      "outputs": [],
      "source": [
        "persistence = CubicalPersistence(homology_dimensions=[0, 1])\n",
        "\n",
        "D = []\n",
        "\n",
        "for i in range(70000):\n",
        "    D.append(persistence.fit_transform(Y[i]))"
      ]
    },
    {
      "cell_type": "code",
      "source": [
        "pds = persistence.fit_transform(Y[5])\n",
        "\n",
        "fig, ax = plt.subplots(ncols=8, figsize=(16,2))\n",
        "\n",
        "for i in range(8):\n",
        "   ax[i].scatter(pds[i][0][:,0], pds[i][0][:,1], c=\"r\", s=20)\n",
        "   ax[i].scatter(pds[i][1][:,0], pds[i][1][:,1], c=\"b\", s=20)"
      ],
      "metadata": {
        "colab": {
          "base_uri": "https://localhost:8080/",
          "height": 189
        },
        "id": "DYQ8oirxvQIm",
        "outputId": "5a847adf-0539-468b-a653-881d5eed8df1"
      },
      "execution_count": 21,
      "outputs": [
        {
          "output_type": "display_data",
          "data": {
            "text/plain": [
              "<Figure size 1600x200 with 8 Axes>"
            ],
            "image/png": "[encoded data removed]"
          },
          "metadata": {}
        }
      ]
    },
    {
      "cell_type": "markdown",
      "metadata": {
        "id": "YnM3Ur5-1E-e"
      },
      "source": [
        "### Конкатенация диаграмм устойчивости"
      ]
    },
    {
      "cell_type": "code",
      "execution_count": 22,
      "metadata": {
        "id": "r6ubk4NzBvqW"
      },
      "outputs": [],
      "source": [
        "def conv_d_for_filters(D, max_value):\n",
        "    n_batch = len(D)\n",
        "    n_filters = len(D[0])\n",
        "\n",
        "    D_new = []\n",
        "\n",
        "    for i in range(n_batch):\n",
        "        D_one_layer = []\n",
        "        for j in range(n_filters):\n",
        "            D[i][j][0] = np.nan_to_num(D[i][j][0], posinf=max_value)\n",
        "            D[i][j][1] = np.nan_to_num(D[i][j][1], posinf=max_value)\n",
        "            layer = D[i][j]\n",
        "            D_one_layer.append(conv_pd(layer))\n",
        "        D_new.append(D_one_layer)\n",
        "\n",
        "    return D_new\n",
        "\n",
        "def conv_filters(D):\n",
        "    n_images = len(D)\n",
        "    n_filters = len(D[0])\n",
        "\n",
        "    result = []\n",
        "\n",
        "    for i in range(n_images):\n",
        "        result_for_image = []\n",
        "        for j in range(n_filters):\n",
        "            layer = D[i][j] # shape (x, 3)\n",
        "\n",
        "            filter_array = np.zeros((layer.shape[0], 8))\n",
        "            filter_array[:, j] = 1\n",
        "\n",
        "            # конкантенирование горизонтально\n",
        "            combined_array = np.concatenate((layer, filter_array), axis=1)\n",
        "\n",
        "            # конкантенирование вертикально\n",
        "            if len(result_for_image) == 0:\n",
        "                result_for_image = combined_array\n",
        "            else:\n",
        "                result_for_image = np.concatenate((result_for_image, combined_array), axis=0)\n",
        "\n",
        "        result.append(result_for_image)\n",
        "\n",
        "    return result"
      ]
    },
    {
      "cell_type": "code",
      "execution_count": 23,
      "metadata": {
        "id": "7CdHr6hcCiS7"
      },
      "outputs": [],
      "source": [
        "max_value = np.max(Y)\n",
        "D_result = conv_d_for_filters(D, max_value)\n",
        "conv_D = conv_filters(D_result)"
      ]
    },
    {
      "cell_type": "markdown",
      "metadata": {
        "id": "9ov0PLE8x61k"
      },
      "source": [
        "## DeepSets на диаграммах устойчивости"
      ]
    },
    {
      "cell_type": "markdown",
      "metadata": {
        "id": "DxvvdecXsIoI"
      },
      "source": [
        "#### Model"
      ]
    },
    {
      "cell_type": "code",
      "execution_count": 25,
      "metadata": {
        "id": "cnxnopE_DU3v"
      },
      "outputs": [],
      "source": [
        "class DeepSets(torch.nn.Module):\n",
        "    def __init__(self, n_in, n_hidden_enc, n_out_enc, n_hidden_dec=16, n_out_dec=2):\n",
        "        super(DeepSets, self).__init__()\n",
        "        self.encoder = MLP(n_in, n_hidden_enc, n_out_enc)\n",
        "        self.decoder = MLP(n_out_enc, n_hidden_dec, n_out_dec)\n",
        "        \n",
        "    def forward(self, X):\n",
        "        X = self.encoder(X)\n",
        "        x = X.mean(dim=1)\n",
        "        x = self.decoder(x)\n",
        "        return x\n",
        "\n",
        "def collate_fn(data):\n",
        "    tmp_pd, _ = data[0]\n",
        "    \n",
        "    n_batch = len(data)\n",
        "    n_features_pd = tmp_pd.shape[1]\n",
        "    n_points_pd = max(len(pd) for pd, _ in data)\n",
        "    inputs_pd = np.zeros((n_batch, n_points_pd, n_features_pd), dtype=float)\n",
        "    labels = np.zeros(len(data))\n",
        "    \n",
        "    for i, (pd, label) in enumerate(data):\n",
        "        inputs_pd[i][:len(pd)] = pd\n",
        "        labels[i] = label\n",
        "    \n",
        "    return torch.Tensor(inputs_pd), torch.Tensor(labels).long()"
      ]
    },
    {
      "cell_type": "markdown",
      "metadata": {
        "id": "A4tfvdBrsNhx"
      },
      "source": [
        "####Dataset"
      ]
    },
    {
      "cell_type": "code",
      "execution_count": 26,
      "metadata": {
        "id": "R_aXsxuJ9RBF"
      },
      "outputs": [],
      "source": [
        "n_train, n_test = 60000, 10000\n",
        "dataset_deepsets = Orbit2kDataset(conv_D, y_mnist)\n",
        "dataset_train_deepsets, dataset_test_deepsets = train_test_split(dataset_deepsets, train_size=n_train, test_size=n_test, shuffle=False)"
      ]
    },
    {
      "cell_type": "markdown",
      "metadata": {
        "id": "9Tnih4-asL7U"
      },
      "source": [
        "#### Train"
      ]
    },
    {
      "cell_type": "code",
      "execution_count": null,
      "metadata": {
        "id": "8Vxrn0VQ9pny"
      },
      "outputs": [],
      "source": [
        "%%time\n",
        "n_repeats = 5\n",
        "n_epochs = 100\n",
        "batch_size = 64\n",
        "\n",
        "history_deep_sets = np.zeros((n_repeats, n_epochs, 3))\n",
        "criterion = nn.CrossEntropyLoss()\n",
        "\n",
        "for repeat_idx in range(n_repeats):\n",
        "    lr = 0.001\n",
        "    deepsets = DeepSets(n_in=3+8, n_hidden_enc=64, n_out_enc=32, n_hidden_dec=16, n_out_dec=10)\n",
        "    optimizer = Adam(deepsets.parameters(), lr=lr)\n",
        "\n",
        "    dataloader_train_deepsets = DataLoader(dataset_train_deepsets, batch_size=batch_size, shuffle=True, collate_fn=collate_fn)\n",
        "    dataloader_test_deepsets = DataLoader(dataset_test_deepsets, batch_size=batch_size, shuffle=True, collate_fn=collate_fn)\n",
        "\n",
        "    print(\"{:3} {:6} {:6} {:6}\".format(repeat_idx, \"Loss\", \"Train\", \"Test\"))\n",
        "\n",
        "    for epoch_idx in range(n_epochs):\n",
        "        #train\n",
        "        deepsets.train()\n",
        "\n",
        "        loss_epoch = []\n",
        "        for i, data in enumerate(dataloader_train_deepsets, 0):\n",
        "            x, y = data\n",
        "            optimizer.zero_grad()\n",
        "            y_pred = deepsets(x)\n",
        "            loss = criterion(y_pred, y)\n",
        "            loss.backward()\n",
        "            optimizer.step()\n",
        "            loss_epoch.append(loss.detach())\n",
        "\n",
        "        loss_epoch_mean = np.array(loss_epoch).mean()\n",
        "        history_deep_sets[repeat_idx,epoch_idx,0] = loss_epoch_mean\n",
        "\n",
        "        #test\n",
        "        deepsets.eval()\n",
        "\n",
        "        correct = 0\n",
        "        total = 0\n",
        "\n",
        "        with torch.no_grad():\n",
        "            for data in dataloader_train_deepsets:\n",
        "                x, y = data\n",
        "                y_pred = deepsets(x)\n",
        "                predicted = torch.argmax(y_pred, dim=1)\n",
        "                total += y.size(0)\n",
        "                correct += (predicted == y).sum().item()\n",
        "\n",
        "        accuracy_train = 100 * correct / total\n",
        "        history_deep_sets[repeat_idx,epoch_idx,1] = accuracy_train\n",
        "\n",
        "        correct = 0\n",
        "        total = 0\n",
        "\n",
        "        with torch.no_grad():\n",
        "            for data in dataloader_test_deepsets:\n",
        "                x, y = data\n",
        "                y_pred = deepsets(x)\n",
        "                predicted = torch.argmax(y_pred, dim=1)\n",
        "                total += y.size(0)\n",
        "                correct += (predicted == y).sum().item()\n",
        "\n",
        "        accuracy_test = 100 * correct / total\n",
        "        history_deep_sets[repeat_idx,epoch_idx,2] = accuracy_test\n",
        "\n",
        "        print(\"{:3} {:.4f} {:.4f} {:.4f}\".format(epoch_idx, loss_epoch_mean, accuracy_train, accuracy_test))\n",
        "    print(\"\\r\")"
      ]
    },
    {
      "cell_type": "markdown",
      "metadata": {
        "id": "u4kU1KEZ0Ad-"
      },
      "source": [
        "##Blending"
      ]
    },
    {
      "cell_type": "code",
      "execution_count": 30,
      "metadata": {
        "id": "87t_tS_RtfRF"
      },
      "outputs": [],
      "source": [
        "dataloader_test_mlp = DataLoader(dataset_test_mlp, batch_size=64, shuffle=False)\n",
        "dataloader_test_deepsets = DataLoader(dataset_test_deepsets, batch_size=64, shuffle=False, collate_fn=collate_fn)"
      ]
    },
    {
      "cell_type": "code",
      "execution_count": null,
      "metadata": {
        "id": "o9pGl6zU0B_a"
      },
      "outputs": [],
      "source": [
        "blending_weights = [0.5, 0.5]\n",
        "\n",
        "correct = 0\n",
        "total = 0\n",
        "\n",
        "with torch.no_grad():\n",
        "    for data1, data2 in zip(dataloader_test_deepsets, dataloader_test_mlp):\n",
        "        x1, y1 = data1\n",
        "        x2, y2 = data2\n",
        "        \n",
        "        y_pred1 = deepsets(x1)\n",
        "        y_pred2 = mlp(x2)\n",
        "        y_pred = blending_weights[0] * y_pred1 + blending_weights[1] * y_pred2\n",
        "        predicted = torch.argmax(y_pred, dim=1)\n",
        "\n",
        "        total += y2.size(0)\n",
        "        correct += (predicted == y2).sum().item()\n",
        "\n",
        "accuracy = 100 * correct / total\n",
        "\n",
        "print('Accuracy of the blended models on the test images: {:.2f}%'.format(accuracy))"
      ]
    },
    {
      "cell_type": "markdown",
      "source": [
        "###Поворот картинок"
      ],
      "metadata": {
        "id": "YxmNsf4tzY51"
      }
    },
    {
      "cell_type": "code",
      "source": [
        "X_raw, y = fetch_openml(\"mnist_784\", return_X_y=True, as_frame=False)"
      ],
      "metadata": {
        "id": "X5Vo-1V9zezu"
      },
      "execution_count": null,
      "outputs": []
    },
    {
      "cell_type": "code",
      "source": [
        "images = [Image.fromarray(x.reshape(28, 28)) for x in X_raw]\n",
        "rotated_images = [img.rotate(90) for img in images]\n",
        "X_mnist_rotated = [np.array(img).reshape(784,) for img in rotated_images]\n",
        "X_mnist_rotated = np.array(X_mnist_rotated)"
      ],
      "metadata": {
        "id": "mImsgSmJeYUM"
      },
      "execution_count": 26,
      "outputs": []
    },
    {
      "cell_type": "code",
      "source": [
        "plt.imshow(X_mnist_rotated[5].reshape((28, 28)))"
      ],
      "metadata": {
        "colab": {
          "base_uri": "https://localhost:8080/",
          "height": 448
        },
        "id": "x6vAWu9xfTc4",
        "outputId": "84324a7c-dc38-4084-ee12-99eb28461930"
      },
      "execution_count": 27,
      "outputs": [
        {
          "output_type": "execute_result",
          "data": {
            "text/plain": [
              "<matplotlib.image.AxesImage at 0x7fcf889675b0>"
            ]
          },
          "metadata": {},
          "execution_count": 27
        },
        {
          "output_type": "display_data",
          "data": {
            "text/plain": [
              "<Figure size 640x480 with 1 Axes>"
            ],
            "image/png": "[encoded data removed]"
          },
          "metadata": {}
        }
      ]
    },
    {
      "cell_type": "code",
      "source": [
        "# получаем свертки\n",
        "start = 0\n",
        "take_n = 70000\n",
        "n_channels = 8\n",
        "\n",
        "X_rotated = torch.tensor(X_mnist_rotated.reshape((take_n, 1, 28, 28)), dtype=torch.float)\n",
        "feature_extractor = FeatureExtractor(n_channels)\n",
        "Y_rotated = feature_extractor(X_rotated).detach().numpy()"
      ],
      "metadata": {
        "id": "uLo824M76Duh"
      },
      "execution_count": 34,
      "outputs": []
    },
    {
      "cell_type": "code",
      "source": [
        "# создаем датасет\n",
        "X_mnist_features = Y_rotated.reshape(Y_rotated.shape[0], -1)\n",
        "y_mnist_features = y_mnist.astype(np.int64)\n",
        "\n",
        "n_train, n_test = 60000, 10000\n",
        "\n",
        "dataset_mlp_rotated = Orbit2kDataset(X_mnist_features, y_mnist_features)\n",
        "dataset_train_mlp_rotated, dataset_test_mlp_rotated = train_test_split(dataset_mlp_rotated, train_size=n_train, test_size=n_test, shuffle=False)"
      ],
      "metadata": {
        "id": "ldS4kgwX5MwV"
      },
      "execution_count": 35,
      "outputs": []
    },
    {
      "cell_type": "code",
      "source": [
        "plt.imshow(dataset_train_mlp_rotated[5][0].reshape((8, 22, 22))[6])"
      ],
      "metadata": {
        "colab": {
          "base_uri": "https://localhost:8080/",
          "height": 448
        },
        "id": "TpJUsD0n9nY3",
        "outputId": "a937dc83-cafb-4cf6-f0a6-d0b36c19ee0e"
      },
      "execution_count": 37,
      "outputs": [
        {
          "output_type": "execute_result",
          "data": {
            "text/plain": [
              "<matplotlib.image.AxesImage at 0x7f5d489d1420>"
            ]
          },
          "metadata": {},
          "execution_count": 37
        },
        {
          "output_type": "display_data",
          "data": {
            "text/plain": [
              "<Figure size 640x480 with 1 Axes>"
            ],
            "image/png": "[encoded data removed]"
          },
          "metadata": {}
        }
      ]
    },
    {
      "cell_type": "markdown",
      "source": [
        "###Тестирование mlp на повернутых изображениях"
      ],
      "metadata": {
        "id": "IpDRtrDmo6h5"
      }
    },
    {
      "cell_type": "code",
      "source": [
        "dataloader_test_rotated_mlp = DataLoader(dataset_test_mlp_rotated, batch_size=64, shuffle=True)"
      ],
      "metadata": {
        "id": "i_by4DuppQyO"
      },
      "execution_count": 38,
      "outputs": []
    },
    {
      "cell_type": "code",
      "source": [
        "correct = 0\n",
        "total = 0\n",
        "\n",
        "with torch.no_grad():\n",
        "    for data in dataloader_test_rotated_mlp:\n",
        "        x, y = data\n",
        "        y_pred = mlp(x)\n",
        "        predicted = torch.argmax(y_pred, dim=1)\n",
        "        total += y.size(0)\n",
        "        correct += (predicted == y).sum().item()\n",
        "\n",
        "accuracy = 100 * correct / total\n",
        "\n",
        "print('Accuracy of the mlp on the rotated test images: {:.2f}%'.format(accuracy))"
      ],
      "metadata": {
        "id": "hhpLH1g4iKOx"
      },
      "execution_count": null,
      "outputs": []
    },
    {
      "cell_type": "markdown",
      "source": [
        "###Тестирование deepsets на повернутых изображениях"
      ],
      "metadata": {
        "id": "1sOZR1fhpt_A"
      }
    },
    {
      "cell_type": "markdown",
      "source": [
        "#### Dataset "
      ],
      "metadata": {
        "id": "QzwS2c8QquTy"
      }
    },
    {
      "cell_type": "code",
      "source": [
        "persistence = CubicalPersistence(homology_dimensions=[0, 1])\n",
        "\n",
        "D_rotated = []\n",
        "\n",
        "for i in range(70000):\n",
        "    D_rotated.append(persistence.fit_transform(Y_rotated[i]))\n",
        "\n",
        "D_result_rotated = conv_d_for_filters(D_rotated, max_value)\n",
        "conv_D_rotated = conv_filters(D_result_rotated)"
      ],
      "metadata": {
        "id": "xAaiaztnqseV"
      },
      "execution_count": 36,
      "outputs": []
    },
    {
      "cell_type": "code",
      "source": [
        "n_train, n_test = 60000, 10000\n",
        "dataset_deepsets_rotated = Orbit2kDataset(conv_D_rotated, y_mnist)\n",
        "dataset_train_deepsets_rotated, dataset_test_deepsets_rotated = train_test_split(dataset_deepsets_rotated, train_size=n_train, test_size=n_test, shuffle=False)"
      ],
      "metadata": {
        "id": "0rcTdsWLqXFT"
      },
      "execution_count": null,
      "outputs": []
    },
    {
      "cell_type": "code",
      "source": [
        "dataloader_test_rotated_deepsets = DataLoader(dataset_test_deepsets_rotated, batch_size=64, shuffle=True)"
      ],
      "metadata": {
        "id": "oVcBrqUCr1FJ"
      },
      "execution_count": null,
      "outputs": []
    },
    {
      "cell_type": "markdown",
      "source": [
        "####Test"
      ],
      "metadata": {
        "id": "9oSZGtBd1dB9"
      }
    },
    {
      "cell_type": "code",
      "source": [
        "correct = 0\n",
        "total = 0\n",
        "\n",
        "with torch.no_grad():\n",
        "    for data in dataloader_test_rotated_deepsets:\n",
        "        x, y = data\n",
        "        y_pred = deepsets(x)\n",
        "        predicted = torch.argmax(y_pred, dim=1)\n",
        "        total += y.size(0)\n",
        "        correct += (predicted == y).sum().item()\n",
        "\n",
        "accuracy = 100 * correct / total\n",
        "\n",
        "print('Accuracy of the deepsets on the rotated test images: {:.2f}%'.format(accuracy))"
      ],
      "metadata": {
        "id": "qJGIgJlyr352"
      },
      "execution_count": null,
      "outputs": []
    }
  ],
  "metadata": {
    "colab": {
      "provenance": [],
      "collapsed_sections": [
        "YxmNsf4tzY51"
      ]
    },
    "kernelspec": {
      "display_name": "Python 3",
      "name": "python3"
    },
    "language_info": {
      "name": "python"
    }
  },
  "nbformat": 4,
  "nbformat_minor": 0
}